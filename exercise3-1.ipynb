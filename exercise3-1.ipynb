{
 "cells": [
  {
   "cell_type": "code",
   "execution_count": null,
   "metadata": {
    "vscode": {
     "languageId": "plaintext"
    }
   },
   "outputs": [],
   "source": [
    "import numpy as np\n",
    "import matplotlib.pyplot as plt\n",
    "from scipy.stats import gaussian_kde\n",
    "\n",
    "# Tạo dữ liệu\n",
    "np.random.seed(42)\n",
    "x = np.random.normal(size=500)\n",
    "\n",
    "np.random.seed(2)\n",
    "y = np.random.normal(size=500) + 1\n",
    "\n",
    "# Tính mật độ\n",
    "density_x = gaussian_kde(x)\n",
    "density_y = gaussian_kde(y)\n",
    "\n",
    "# Lưới giá trị cho trục x\n",
    "x_grid_x = np.linspace(min(x), max(x), 1000)\n",
    "x_grid_y = np.linspace(min(y), max(y), 1000)\n",
    "\n",
    "# Xác định giới hạn trục x và y\n",
    "x_min = min(x.min(), y.min())\n",
    "x_max = max(x.max(), y.max())\n",
    "y_min = min(density_x(x_grid_x).min(), density_y(x_grid_y).min())\n",
    "y_max = max(density_x(x_grid_x).max(), density_y(x_grid_y).max())\n",
    "\n",
    "# Vẽ đồ thị\n",
    "plt.figure(figsize=(8, 6))\n",
    "plt.plot(x_grid_x, density_x(x_grid_x), color='red', linewidth=2, label='Density of x')\n",
    "plt.plot(x_grid_y, density_y(x_grid_y), color='blue', linewidth=2, label='Density of y')\n",
    "plt.title(\"Multiple curves with correct axis limits\", fontsize=16)\n",
    "plt.xlabel(\"\", fontsize=12)\n",
    "plt.xlim(x_min, x_max)  # Giới hạn trục x\n",
    "plt.ylim(y_min, y_max)  # Giới hạn trục y\n",
    "plt.legend()\n",
    "plt.show()"
   ]
  }
 ],
 "metadata": {
  "language_info": {
   "name": "python"
  }
 },
 "nbformat": 4,
 "nbformat_minor": 2
}
